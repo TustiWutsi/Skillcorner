{
 "cells": [
  {
   "cell_type": "code",
   "execution_count": 3,
   "id": "4ad7a4af-bee6-4869-8428-301a8407295a",
   "metadata": {
    "tags": []
   },
   "outputs": [],
   "source": [
    "import json\n",
    "import numpy as np\n",
    "import pandas as pd\n",
    "import matplotlib.pyplot as plt\n",
    "from scipy.signal import savgol_filter"
   ]
  },
  {
   "cell_type": "code",
   "execution_count": 6,
   "id": "a87041ee-40cb-45ee-972a-01f08ef2a66d",
   "metadata": {
    "tags": []
   },
   "outputs": [],
   "source": [
    "with open('data/matches/2417/structured_data.json', 'r') as f:\n",
    "    match_dict = json.load(f)"
   ]
  },
  {
   "cell_type": "code",
   "execution_count": 7,
   "id": "d2c9c0e2-2d89-4857-87aa-6e3cd1d644b6",
   "metadata": {
    "tags": []
   },
   "outputs": [
    {
     "data": {
      "text/plain": [
       "68101"
      ]
     },
     "execution_count": 7,
     "metadata": {},
     "output_type": "execute_result"
    }
   ],
   "source": [
    "len(match_dict)"
   ]
  },
  {
   "cell_type": "code",
   "execution_count": 11,
   "id": "dbc18179-fe6a-48a2-a924-17ce370b4810",
   "metadata": {
    "tags": []
   },
   "outputs": [],
   "source": [
    "with open('data/matches/2417/match_data.json', 'r') as f:\n",
    "    match_data_dict = json.load(f)"
   ]
  },
  {
   "cell_type": "code",
   "execution_count": 14,
   "id": "82421e95-3bce-432a-a219-e6e1d5e774ce",
   "metadata": {
    "tags": []
   },
   "outputs": [
    {
     "data": {
      "text/plain": [
       "dict_keys(['referees', 'date_time', 'home_team', 'away_team', 'away_team_kit', 'home_team_coach', 'status', 'pitch_length', 'players', 'away_team_coach', 'ball', 'pitch_width', 'competition_edition', 'stadium', 'home_team_kit', 'competition_round', 'away_team_score', 'id', 'home_team_score'])"
      ]
     },
     "execution_count": 14,
     "metadata": {},
     "output_type": "execute_result"
    }
   ],
   "source": [
    "match_data_dict.keys()"
   ]
  },
  {
   "cell_type": "code",
   "execution_count": 21,
   "id": "c9983e5f-16ed-456b-ae90-68c454111038",
   "metadata": {
    "tags": []
   },
   "outputs": [
    {
     "data": {
      "text/plain": [
       "[{'injured': False,\n",
       "  'own_goal': 0,\n",
       "  'last_name': 'Müller',\n",
       "  'goal': 0,\n",
       "  'red_card': 0,\n",
       "  'number': 25,\n",
       "  'id': 10308,\n",
       "  'trackable_object': 10318,\n",
       "  'team_id': 100,\n",
       "  'birthday': '1989-09-13',\n",
       "  'end_time': None,\n",
       "  'first_name': 'Thomas',\n",
       "  'player_role': {'acronym': 'CM', 'id': 8, 'name': 'Center Midfield'},\n",
       "  'start_time': '00:00:00',\n",
       "  'yellow_card': 0,\n",
       "  'team_player_id': 1538}]"
      ]
     },
     "execution_count": 21,
     "metadata": {},
     "output_type": "execute_result"
    }
   ],
   "source": [
    "[player for player in match_data_dict['players'] if player['team_player_id']==1538]"
   ]
  },
  {
   "cell_type": "code",
   "execution_count": 36,
   "id": "0ddbbdee-bdb0-409f-a6e7-872c9ad43464",
   "metadata": {
    "collapsed": true,
    "jupyter": {
     "outputs_hidden": true
    },
    "tags": []
   },
   "outputs": [
    {
     "data": {
      "text/plain": [
       "[{'frame': 1150, 'x': 0.330776769972, 'y': -13.5860110021},\n",
       " {'frame': 1151, 'x': 0.466471433832, 'y': -13.6288838404},\n",
       " {'frame': 1152, 'x': 0.551087471604, 'y': -13.6565564272},\n",
       " {'frame': 1153, 'x': 0.584624883288, 'y': -13.6690287622},\n",
       " {'frame': 1154, 'x': 0.530846007203, 'y': -13.6621186888},\n",
       " {'frame': 1155, 'x': 0.364111204998, 'y': -13.635793014},\n",
       " {'frame': 1156, 'x': 0.503738863581, 'y': -13.6437577113},\n",
       " {'frame': 1157, 'x': 0.571955892528, 'y': -13.6487827665},\n",
       " {'frame': 1158, 'x': 0.554436121044, 'y': -13.6397938864},\n",
       " {'frame': 1159, 'x': 0.582427315769, 'y': -13.6548970086},\n",
       " {'frame': 1160, 'x': 0.67635446645, 'y': -13.6619880767},\n",
       " {'frame': 1161, 'x': 0.68137838344, 'y': -13.6545048923},\n",
       " {'frame': 1162, 'x': 0.76333460023, 'y': -13.6641811313},\n",
       " {'frame': 1163, 'x': 0.777473323985, 'y': -13.6530901657},\n",
       " {'frame': 1164, 'x': 0.615866890374, 'y': -13.5962003841},\n",
       " {'frame': 1165, 'x': 0.555217656587, 'y': -13.559154098},\n",
       " {'frame': 1166, 'x': 0.566634483038, 'y': -13.5202959886},\n",
       " {'frame': 1167, 'x': 0.541779702113, 'y': -13.4736989879},\n",
       " {'frame': 1168, 'x': 0.559145064818, 'y': -13.4404282305},\n",
       " {'frame': 1169, 'x': 0.616987445864, 'y': -13.4040139465},\n",
       " {'frame': 1170, 'x': 0.586067740513, 'y': -13.3799048823},\n",
       " {'frame': 1171, 'x': 0.595280148519, 'y': -13.392437893},\n",
       " {'frame': 1172, 'x': 0.608488258396, 'y': -13.4234265456},\n",
       " {'frame': 1173, 'x': 0.622506498597, 'y': -13.4769499048},\n",
       " {'frame': 1174, 'x': 0.633766243844, 'y': -13.5445424128},\n",
       " {'frame': 1175, 'x': 0.640990745454, 'y': -13.5522186643},\n",
       " {'frame': 1176, 'x': 0.631234529473, 'y': -13.5709682646},\n",
       " {'frame': 1177, 'x': 0.634789137613, 'y': -13.5562583378},\n",
       " {'frame': 1178, 'x': 0.630986165433, 'y': -13.5240395864},\n",
       " {'frame': 1179, 'x': 0.627726171698, 'y': -13.5035243261},\n",
       " {'frame': 1180, 'x': 0.622831338928, 'y': -13.4999403272},\n",
       " {'frame': 1181, 'x': 0.634887326331, 'y': -13.4626377651},\n",
       " {'frame': 1182, 'x': 0.63785939841, 'y': -13.4627424422},\n",
       " {'frame': 1183, 'x': 0.650111879621, 'y': -13.4548710868},\n",
       " {'frame': 1184, 'x': 0.643340283916, 'y': -13.4281818299},\n",
       " {'frame': 1185, 'x': 0.6342113756, 'y': -13.3965849195},\n",
       " {'frame': 1186, 'x': 0.63157425608, 'y': -13.4028720856},\n",
       " {'frame': 1187, 'x': 0.640138166291, 'y': -13.3946749369},\n",
       " {'frame': 1188, 'x': 0.64333574261, 'y': -13.4213307699},\n",
       " {'frame': 1189, 'x': 0.624835749467, 'y': -13.4454488754},\n",
       " {'frame': 1190, 'x': 0.609694937865, 'y': -13.4576546805},\n",
       " {'frame': 1191, 'x': 0.619372458685, 'y': -13.4261639913},\n",
       " {'frame': 1192, 'x': 0.637123573394, 'y': -13.3874627068},\n",
       " {'frame': 1193, 'x': 0.668018088454, 'y': -13.3213928768},\n",
       " {'frame': 1194, 'x': 0.6351120401, 'y': -13.2704749334},\n",
       " {'frame': 1195, 'x': 0.589871690387, 'y': -13.2483536857},\n",
       " {'frame': 1196, 'x': 0.578599664427, 'y': -13.2470171338},\n",
       " {'frame': 1197, 'x': 0.604111685639, 'y': -13.2064239411},\n",
       " {'frame': 1198, 'x': 0.650820197094, 'y': -13.1684346426},\n",
       " {'frame': 1199, 'x': 0.724425435066, 'y': -13.1212018785},\n",
       " {'frame': 1200, 'x': 0.715385800316, 'y': -13.1207192739},\n",
       " {'frame': 1201, 'x': 0.709678258215, 'y': -13.1984086264},\n",
       " {'frame': 1202, 'x': 0.692292993977, 'y': -13.2967367172},\n",
       " {'frame': 1203, 'x': 0.684606547867, 'y': -13.3599677086},\n",
       " {'frame': 1204, 'x': 0.676423694406, 'y': -13.4156882422},\n",
       " {'frame': 1205, 'x': 0.667744433596, 'y': -13.4638983182}]"
      ]
     },
     "execution_count": 36,
     "metadata": {},
     "output_type": "execute_result"
    }
   ],
   "source": [
    "filtered_data = [\n",
    "    {'frame': frame['frame'], 'x': pos['x'], 'y': pos['y']}\n",
    "    for frame in match_dict\n",
    "    for pos in frame['data']\n",
    "    if pos.get('track_id') == 8 \n",
    "]\n",
    "filtered_data"
   ]
  },
  {
   "cell_type": "code",
   "execution_count": 51,
   "id": "882a1906-0156-401f-9f8f-a8bc1e3d99aa",
   "metadata": {
    "tags": []
   },
   "outputs": [
    {
     "data": {
      "text/html": [
       "<div>\n",
       "<style scoped>\n",
       "    .dataframe tbody tr th:only-of-type {\n",
       "        vertical-align: middle;\n",
       "    }\n",
       "\n",
       "    .dataframe tbody tr th {\n",
       "        vertical-align: top;\n",
       "    }\n",
       "\n",
       "    .dataframe thead th {\n",
       "        text-align: right;\n",
       "    }\n",
       "</style>\n",
       "<table border=\"1\" class=\"dataframe\">\n",
       "  <thead>\n",
       "    <tr style=\"text-align: right;\">\n",
       "      <th></th>\n",
       "      <th>frame</th>\n",
       "      <th>x</th>\n",
       "      <th>y</th>\n",
       "    </tr>\n",
       "  </thead>\n",
       "  <tbody>\n",
       "    <tr>\n",
       "      <th>0</th>\n",
       "      <td>1150</td>\n",
       "      <td>0.330777</td>\n",
       "      <td>-13.586011</td>\n",
       "    </tr>\n",
       "    <tr>\n",
       "      <th>1</th>\n",
       "      <td>1151</td>\n",
       "      <td>0.466471</td>\n",
       "      <td>-13.628884</td>\n",
       "    </tr>\n",
       "    <tr>\n",
       "      <th>2</th>\n",
       "      <td>1152</td>\n",
       "      <td>0.551087</td>\n",
       "      <td>-13.656556</td>\n",
       "    </tr>\n",
       "    <tr>\n",
       "      <th>3</th>\n",
       "      <td>1153</td>\n",
       "      <td>0.584625</td>\n",
       "      <td>-13.669029</td>\n",
       "    </tr>\n",
       "    <tr>\n",
       "      <th>4</th>\n",
       "      <td>1154</td>\n",
       "      <td>0.530846</td>\n",
       "      <td>-13.662119</td>\n",
       "    </tr>\n",
       "    <tr>\n",
       "      <th>5</th>\n",
       "      <td>1155</td>\n",
       "      <td>0.364111</td>\n",
       "      <td>-13.635793</td>\n",
       "    </tr>\n",
       "    <tr>\n",
       "      <th>6</th>\n",
       "      <td>1156</td>\n",
       "      <td>0.503739</td>\n",
       "      <td>-13.643758</td>\n",
       "    </tr>\n",
       "    <tr>\n",
       "      <th>7</th>\n",
       "      <td>1157</td>\n",
       "      <td>0.571956</td>\n",
       "      <td>-13.648783</td>\n",
       "    </tr>\n",
       "    <tr>\n",
       "      <th>8</th>\n",
       "      <td>1158</td>\n",
       "      <td>0.554436</td>\n",
       "      <td>-13.639794</td>\n",
       "    </tr>\n",
       "    <tr>\n",
       "      <th>9</th>\n",
       "      <td>1159</td>\n",
       "      <td>0.582427</td>\n",
       "      <td>-13.654897</td>\n",
       "    </tr>\n",
       "  </tbody>\n",
       "</table>\n",
       "</div>"
      ],
      "text/plain": [
       "   frame         x          y\n",
       "0   1150  0.330777 -13.586011\n",
       "1   1151  0.466471 -13.628884\n",
       "2   1152  0.551087 -13.656556\n",
       "3   1153  0.584625 -13.669029\n",
       "4   1154  0.530846 -13.662119\n",
       "5   1155  0.364111 -13.635793\n",
       "6   1156  0.503739 -13.643758\n",
       "7   1157  0.571956 -13.648783\n",
       "8   1158  0.554436 -13.639794\n",
       "9   1159  0.582427 -13.654897"
      ]
     },
     "execution_count": 51,
     "metadata": {},
     "output_type": "execute_result"
    }
   ],
   "source": [
    "df_player = pd.DataFrame(filtered_data).head(10)\n",
    "df_player['frame'] = df_player['frame'].astype('int')\n",
    "df_player"
   ]
  },
  {
   "cell_type": "code",
   "execution_count": 55,
   "id": "0c0cab71-a8da-4e62-8309-b27dc3ce5bce",
   "metadata": {
    "tags": []
   },
   "outputs": [
    {
     "data": {
      "text/plain": [
       "[<matplotlib.lines.Line2D at 0x7f223250add0>]"
      ]
     },
     "execution_count": 55,
     "metadata": {},
     "output_type": "execute_result"
    },
    {
     "data": {
      "image/png": "[encoded data removed]",
      "text/plain": [
       "<Figure size 640x480 with 2 Axes>"
      ]
     },
     "metadata": {},
     "output_type": "display_data"
    }
   ],
   "source": [
    "plt.scatter(df_player['x'], df_player['y'], c=df_player['frame'], cmap='viridis', edgecolors='k')\n",
    "plt.colorbar(label='Frame Number')\n",
    "plt.plot(df_player['x'], df_player['y'])"
   ]
  },
  {
   "cell_type": "code",
   "execution_count": null,
   "id": "287df330-e063-436b-94dd-bd6723379af2",
   "metadata": {},
   "outputs": [],
   "source": [
    "# Pour trouver x et y quand on connaît la distance parcourue\n",
    "\n",
    "def interpolate_positions(df):\n",
    "    \"\"\"\n",
    "    Interpole les positions manquantes en conservant la direction précédente.\n",
    "    \n",
    "    df : DataFrame contenant les colonnes ['time', 'x', 'y', 'distance']\n",
    "    \"\"\"\n",
    "\n",
    "    for i in range(1, len(df)):\n",
    "        if np.isnan(df.loc[i, 'x']) or np.isnan(df.loc[i, 'y']):\n",
    "            # Dernier point valide\n",
    "            last_valid_idx = i - 1\n",
    "            while last_valid_idx >= 0 and (np.isnan(df.loc[last_valid_idx, 'x']) or np.isnan(df.loc[last_valid_idx, 'y'])):\n",
    "                last_valid_idx -= 1\n",
    "            \n",
    "            if last_valid_idx < 0:\n",
    "                continue  # Pas de point valide avant, on ne peut pas interpoler\n",
    "\n",
    "            # Récupérer la dernière direction valide\n",
    "            if last_valid_idx > 0:\n",
    "                dx = df.loc[last_valid_idx, 'x'] - df.loc[last_valid_idx - 1, 'x']\n",
    "                dy = df.loc[last_valid_idx, 'y'] - df.loc[last_valid_idx - 1, 'y']\n",
    "                norm = np.sqrt(dx**2 + dy**2)\n",
    "                if norm > 0:\n",
    "                    dx /= norm\n",
    "                    dy /= norm\n",
    "            else:\n",
    "                dx, dy = 1, 0  # Direction par défaut si on n'a qu'un point\n",
    "\n",
    "            # Appliquer la distance prédite pour estimer la nouvelle position\n",
    "            distance = df.loc[i, 'distance']\n",
    "            df.loc[i, 'x'] = df.loc[last_valid_idx, 'x'] + distance * dx\n",
    "            df.loc[i, 'y'] = df.loc[last_valid_idx, 'y'] + distance * dy\n",
    "    \n",
    "    return df\n",
    "\n",
    "# Exemple d'utilisation\n",
    "data = {\n",
    "    'time': [0, 10, 20, 30, 40, 50],\n",
    "    'x': [0, 1, np.nan, np.nan, 4, 5],\n",
    "    'y': [0, 1, np.nan, np.nan, 4, 5],\n",
    "    'distance': [0, 1.41, 1.41, 1.41, 1.41, 1.41]  # Distances estimées\n",
    "}\n",
    "\n",
    "df = pd.DataFrame(data)\n",
    "df = interpolate_positions(df)"
   ]
  },
  {
   "cell_type": "code",
   "execution_count": null,
   "id": "03d6f0e0-ced5-4e8b-a32a-90f9e88869fc",
   "metadata": {},
   "outputs": [],
   "source": [
    "# autre manière de le coder\n",
    "\n",
    "# Fonction pour calculer la vitesse (distance divisée par le temps)\n",
    "def calculate_speed(df):\n",
    "    speeds = []\n",
    "    for i in range(1, len(df)):\n",
    "        dx = df['x'].iloc[i] - df['x'].iloc[i-1]\n",
    "        dy = df['y'].iloc[i] - df['y'].iloc[i-1]\n",
    "        distance = np.sqrt(dx**2 + dy**2)\n",
    "        time_interval = 0.25  # 0.25 secondes entre chaque point\n",
    "        speed = distance / time_interval  # vitesse en m/s\n",
    "        speeds.append(speed)\n",
    "    speeds.insert(0, 0)  # La première vitesse est nulle (pas de déplacement)\n",
    "    return speeds\n",
    "\n",
    "# Interpolation des positions manquantes en utilisant la direction et la vitesse\n",
    "def interpolate_missing_positions(df):\n",
    "    # Calcul des vitesses et directions\n",
    "    df['speed'] = calculate_speed(df)\n",
    "    \n",
    "    for i in range(1, len(df)-1):\n",
    "        if pd.isnull(df['x'].iloc[i]):  # Si la position x est manquante\n",
    "            prev_speed = df['speed'].iloc[i-1]\n",
    "            next_speed = df['speed'].iloc[i+1]\n",
    "            prev_position = np.array([df['x'].iloc[i-1], df['y'].iloc[i-1]])\n",
    "            next_position = np.array([df['x'].iloc[i+1], df['y'].iloc[i+1]])\n",
    "\n",
    "            # Direction estimée comme une combinaison des directions avant et après\n",
    "            direction = (next_position - prev_position) / np.linalg.norm(next_position - prev_position)\n",
    "            \n",
    "            # Interpolation basée sur la vitesse et la direction\n",
    "            interpolated_position = prev_position + direction * prev_speed * 0.25  # Le facteur 0.25 est la durée entre les points\n",
    "            \n",
    "            df['x'].iloc[i] = interpolated_position[0]\n",
    "            df['y'].iloc[i] = interpolated_position[1]\n",
    "    \n",
    "    return df"
   ]
  },
  {
   "cell_type": "code",
   "execution_count": null,
   "id": "3210032e-fea5-4bc7-a0c9-2815c8c40dd2",
   "metadata": {},
   "outputs": [],
   "source": [
    "# Pour lisser la vitesse avec une moving average\n",
    "\n",
    "window_size = 5 \n",
    "df['smoothed_velocity'] = df['velocity'].rolling(window=window_size, min_periods=1).mean()\n",
    "\n",
    "# avec np.convolve\n",
    "df['smoothed_velocity'] = np.convolve(df['velocity'], np.ones(window_size)/window_size, mode='same')"
   ]
  },
  {
   "cell_type": "markdown",
   "id": "6283c1a5-cc95-42b6-baf9-0d000f274f5e",
   "metadata": {},
   "source": [
    "si on lisse les vitesses sur l'ensemble du dataset : il faut partir du x et y d'origine, puis ajuster les (x,y) suivants à partir des distances smoothées"
   ]
  },
  {
   "cell_type": "code",
   "execution_count": null,
   "id": "0be75f1b-c107-4f00-88a2-15b9596be62e",
   "metadata": {},
   "outputs": [],
   "source": [
    "# Pour compter les sprints maintenus\n",
    "\n",
    "# Sample DataFrame\n",
    "df = pd.DataFrame({\n",
    "    'frame': [1150, 1151, 1152, 1153, 1154, 1155, 1156, 1157],\n",
    "    'x': [-3.4, -1.2, -2.2, -3.0, -1.0, -2.8, -3.5, -3.6],\n",
    "    'y': [2.0, 0.2, 1.1, 1.2, 0.9, 1.3, 1.0, 0.8],\n",
    "})\n",
    "\n",
    "# Example: Calculate the speed in m/s (already done in previous code)\n",
    "df['x_diff'] = df['x'].diff()\n",
    "df['y_diff'] = df['y'].diff()\n",
    "df['distance'] = np.sqrt(df['x_diff']**2 + df['y_diff']**2)\n",
    "time_diff = 0.01\n",
    "df['speed_m_s'] = df['distance'] / time_diff\n",
    "\n",
    "# Define a sprint as speed > 7 m/s\n",
    "df['is_sprint'] = df['speed_m_s'] > 7\n",
    "\n",
    "# Identify when sprints are consecutive (group consecutive True values)\n",
    "# Cumsum enables to define new \"id\" of sprints\n",
    "df['sprint_group'] = (df['is_sprint'] != df['is_sprint'].shift()).cumsum()\n",
    "\n",
    "# Count the number of sprints maintained for more than 4 frames\n",
    "sprint_durations = df.groupby('sprint_group')['is_sprint'].sum()\n",
    "maintained_sprints = sprint_durations[sprint_durations > 4].count()"
   ]
  },
  {
   "cell_type": "code",
   "execution_count": 17,
   "id": "d17bb68c-6efc-4cc1-9fd9-ba740690817e",
   "metadata": {
    "tags": []
   },
   "outputs": [
    {
     "data": {
      "image/png": "[encoded data removed]",
      "text/plain": [
       "<Figure size 640x480 with 1 Axes>"
      ]
     },
     "metadata": {},
     "output_type": "display_data"
    }
   ],
   "source": [
    "# Générer des données bruitées\n",
    "np.random.seed(42)\n",
    "t = np.linspace(0, 10, 100)  # Temps\n",
    "y = np.sin(t) + np.random.normal(scale=0.3, size=len(t))  # Signal bruité\n",
    "\n",
    "# Appliquer Savitzky-Golay\n",
    "y_smooth = savgol_filter(y, window_length=10, polyorder=2)\n",
    "\n",
    "# Afficher les résultats\n",
    "plt.plot(t, y, label=\"Données bruitées\", linestyle=\"dotted\")\n",
    "plt.plot(t, y_smooth, label=\"Savitzky-Golay\", linewidth=2)\n",
    "plt.legend()\n",
    "plt.show()"
   ]
  },
  {
   "cell_type": "code",
   "execution_count": null,
   "id": "b779f7c6-4b11-400f-bc98-1e8e5d3387de",
   "metadata": {},
   "outputs": [],
   "source": [
    "# déterminer s'il s'agit d'un appel en profondeur\n",
    "\n",
    "def calculate_speed(df):\n",
    "    speeds = []\n",
    "    for i in range(1, len(df)):\n",
    "        dx = df['x'].iloc[i] - df['x'].iloc[i-1]\n",
    "        dy = df['y'].iloc[i] - df['y'].iloc[i-1]\n",
    "        distance = np.sqrt(dx**2 + dy**2)\n",
    "        time_interval = 0.25  # 0.25 secondes entre chaque point\n",
    "        speed = distance / time_interval  # vitesse en m/s\n",
    "        speeds.append(speed)\n",
    "    speeds.insert(0, 0)  # La première vitesse est nulle (pas de déplacement)\n",
    "    return speeds\n",
    "\n",
    "# Fonction pour calculer l'accélération (changement de vitesse)\n",
    "def calculate_acceleration(speeds):\n",
    "    accelerations = []\n",
    "    for i in range(1, len(speeds)):\n",
    "        acceleration = speeds[i] - speeds[i-1]\n",
    "        accelerations.append(acceleration)\n",
    "    accelerations.insert(0, 0)  # La première accélération est nulle\n",
    "    return accelerations\n",
    "\n",
    "# Fonction pour déterminer si la course correspond à un appel en profondeur\n",
    "def is_run_depth_call(df, threshold_speed=3, threshold_acceleration=1, threshold_angle=30):\n",
    "    # Calcul des vitesses\n",
    "    df['speed'] = calculate_speed(df)\n",
    "    speeds = df['speed'].values\n",
    "    \n",
    "    # Calcul de l'accélération\n",
    "    accelerations = calculate_acceleration(speeds)\n",
    "    df['acceleration'] = accelerations\n",
    "    \n",
    "    # Vérifier si la vitesse et l'accélération dépassent les seuils\n",
    "    if df['speed'].max() > threshold_speed and df['acceleration'].max() > threshold_acceleration:\n",
    "        # Vérifier l'angle de déplacement pour détecter un mouvement linéaire vers la profondeur\n",
    "        for i in range(1, len(df)-1):\n",
    "            dx1 = df['x'].iloc[i] - df['x'].iloc[i-1]\n",
    "            dy1 = df['y'].iloc[i] - df['y'].iloc[i-1]\n",
    "            dx2 = df['x'].iloc[i+1] - df['x'].iloc[i]\n",
    "            dy2 = df['y'].iloc[i+1] - df['y'].iloc[i]\n",
    "            \n",
    "            # Calcul de l'angle entre les deux vecteurs de déplacement\n",
    "            angle = np.degrees(np.arccos((dx1*dx2 + dy1*dy2) / (np.sqrt(dx1**2 + dy1**2) * np.sqrt(dx2**2 + dy2**2))))\n",
    "            \n",
    "            # Si l'angle est faible, cela indique un mouvement linéaire vers la profondeur\n",
    "            if angle < threshold_angle:\n",
    "                return True  # L'appel en profondeur est détecté\n",
    "    \n",
    "    return False  # Aucun appel en profondeur détecté"
   ]
  },
  {
   "cell_type": "code",
   "execution_count": null,
   "id": "a30aa34d-b307-4122-a364-cd2bd9909a0e",
   "metadata": {},
   "outputs": [],
   "source": [
    "# Modèle de Pitch Control simple\n",
    "\n",
    "# Paramètres\n",
    "lambda_decay = 4  # Facteur de décroissance de la probabilité\n",
    "max_speed = 5.5  # Vitesse max du joueur en m/s (peut être personnalisée)\n",
    "pitch_length = 105  # Longueur du terrain (m)\n",
    "pitch_width = 68  # Largeur du terrain (m)\n",
    "grid_size = 1  # Taille des cellules en mètres\n",
    "\n",
    "# Génération d'une grille du terrain\n",
    "x_grid = np.arange(0, pitch_length, grid_size)\n",
    "y_grid = np.arange(0, pitch_width, grid_size)\n",
    "grid_points = np.array(np.meshgrid(x_grid, y_grid)).T.reshape(-1, 2)\n",
    "\n",
    "# Fonction pour calculer le temps d'arrivée d'un joueur à chaque point de la grille\n",
    "def calculate_time_to_reach(player_x, player_y, speed_x, speed_y, grid):\n",
    "    distances = np.sqrt((grid[:, 0] - player_x)**2 + (grid[:, 1] - player_y)**2)\n",
    "    player_speed = np.sqrt(speed_x**2 + speed_y**2)\n",
    "    times = distances / (player_speed + 1e-6)  # Ajouter une petite valeur pour éviter la division par 0\n",
    "    return times\n",
    "\n",
    "# Fonction pour calculer le Pitch Control sur toute la grille\n",
    "def compute_pitch_control(players, grid):\n",
    "    \"\"\"\n",
    "    players : DataFrame contenant les positions et vitesses des joueurs\n",
    "    grid : Points du terrain sur lesquels on veut estimer le contrôle\n",
    "    \n",
    "    Retourne une matrice de probabilité de contrôle\n",
    "    \"\"\"\n",
    "    num_points = len(grid)\n",
    "    num_players = len(players)\n",
    "    \n",
    "    # Stocke les temps d'arrivée de chaque joueur pour chaque point de la grille\n",
    "    arrival_times = np.full((num_players, num_points), np.inf)\n",
    "\n",
    "    for i, (_, player) in enumerate(players.iterrows()):\n",
    "        arrival_times[i, :] = calculate_time_to_reach(player['x'], player['y'], player['vx'], player['vy'], grid)\n",
    "    \n",
    "    # Pour chaque point de la grille, déterminer le temps minimum parmi tous les joueurs\n",
    "    min_times = np.min(arrival_times, axis=0)\n",
    "\n",
    "    # Calculer la probabilité de contrôle pour chaque joueur\n",
    "    pitch_control = np.zeros(num_points)\n",
    "    \n",
    "    for i, (_, player) in enumerate(players.iterrows()):\n",
    "        probabilities = np.exp(-lambda_decay * (arrival_times[i, :] - min_times))\n",
    "        pitch_control += probabilities if player['team'] == 'A' else -probabilities\n",
    "\n",
    "    return pitch_control.reshape(len(x_grid), len(y_grid))\n",
    "\n",
    "# Exemple de données de joueurs\n",
    "players_data = pd.DataFrame([\n",
    "    {'team': 'A', 'x': 50, 'y': 34, 'vx': 2, 'vy': 0},\n",
    "    {'team': 'B', 'x': 60, 'y': 34, 'vx': -2, 'vy': 0},\n",
    "    {'team': 'A', 'x': 30, 'y': 20, 'vx': 3, 'vy': 1},\n",
    "    {'team': 'B', 'x': 80, 'y': 50, 'vx': -3, 'vy': -1},\n",
    "])\n",
    " \n",
    "# Calcul du pitch control\n",
    "pitch_control_matrix = compute_pitch_control(players_data, grid_points)\n",
    "\n",
    "# Affichage du Pitch Control\n",
    "plt.figure(figsize=(10, 6))\n",
    "plt.imshow(pitch_control_matrix.T, origin='lower', extent=[0, pitch_length, 0, pitch_width], cmap='coolwarm', alpha=0.8)\n",
    "plt.colorbar(label=\"Contrôle (-1 : équipe B, +1 : équipe A)\")\n",
    "\n",
    "# Affichage des positions des joueurs\n",
    "for _, player in players_data.iterrows():\n",
    "    plt.scatter(player['x'], player['y'], color='blue' if player['team'] == 'A' else 'red', edgecolors='k', s=100)\n",
    "\n",
    "plt.title(\"Pitch Control\")\n",
    "plt.xlabel(\"Longueur du terrain (m)\")\n",
    "plt.ylabel(\"Largeur du terrain (m)\")\n",
    "plt.show()"
   ]
  },
  {
   "cell_type": "code",
   "execution_count": null,
   "id": "426401a7-3b11-4818-b605-e319fbae85c5",
   "metadata": {},
   "outputs": [],
   "source": [
    "# modèle simple d'xP avec tracking data\n",
    "\n",
    "# Calcul de quelques features\n",
    "df[\"distance_pass\"] = np.sqrt((df[\"x_receveur\"] - df[\"x_passeur\"])**2 + (df[\"y_receveur\"] - df[\"y_passeur\"])**2)\n",
    "df[\"angle_pass\"] = np.arctan2(df[\"y_receveur\"] - df[\"y_passeur\"], df[\"x_receveur\"] - df[\"x_passeur\"])\n",
    "df[\"speed_passeur\"] = np.sqrt(df[\"vx_passeur\"]**2 + df[\"vy_passeur\"]**2)\n",
    "df[\"speed_receveur\"] = np.sqrt(df[\"vx_receveur\"]**2 + df[\"vy_receveur\"]**2)\n",
    "df[\"defenders_near_passeur\"] = df[\"density_on_pass_path\"].apply(lambda x: np.clip(x, 0, 5))  # Normalisation\n",
    "\n",
    "# Sélection des features et de la cible\n",
    "features = [\n",
    "    \"distance_pass\", \"angle_pass\", \"speed_passeur\", \"speed_receveur\", \n",
    "    \"defenders_near_passeur\", \"defenders_near_receveur\", \"pitch_control_receveur\", \n",
    "    \"pressure_passeur\", \"pressure_receveur\"\n",
    "]\n",
    "X = df[features]\n",
    "y = df[\"pass_success\"]  # 1 = réussite, 0 = échec\n",
    "\n",
    "# Normalisation des features\n",
    "scaler = StandardScaler()\n",
    "X_scaled = scaler.fit_transform(X)\n",
    "\n",
    "# Split train/test\n",
    "X_train, X_test, y_train, y_test = train_test_split(X_scaled, y, test_size=0.2, random_state=42)\n",
    "\n",
    "# Entraînement du modèle\n",
    "model = RandomForestClassifier(n_estimators=100, max_depth=10, random_state=42)\n",
    "model.fit(X_train, y_train)\n",
    "\n",
    "# Prédiction et évaluation\n",
    "y_pred = model.predict(X_test)\n",
    "y_proba = model.predict_proba(X_test)[:, 1]  # Probabilité de réussite\n",
    "\n",
    "accuracy = accuracy_score(y_test, y_pred)\n",
    "auc = roc_auc_score(y_test, y_proba)\n",
    "\n",
    "print(f\"Accuracy: {accuracy:.3f}\")\n",
    "print(f\"AUC: {auc:.3f}\")"
   ]
  },
  {
   "cell_type": "code",
   "execution_count": null,
   "id": "2410d5b1-e155-4cd3-9728-39e1d2d09ddd",
   "metadata": {},
   "outputs": [],
   "source": [
    "# déterminer la distance d'un joueur adverse par rapport à une ligne de passe\n",
    "\n",
    "# même logique pour déterminer si un joueur adverse se dirige vers le ballon (pour le pressing)\n",
    "\n",
    "# permet de calculer la distance d'un point à une droite\n",
    "\n",
    "def distance_to_pass_line(x_passeur, y_passeur, x_receveur, y_receveur, x_adversaire, y_adversaire):\n",
    "    \"\"\"\n",
    "    Calcule la distance entre un adversaire et la ligne de passe.\n",
    "    \n",
    "    x_passeur, y_passeur : Coordonnées du passeur\n",
    "    x_receveur, y_receveur : Coordonnées du receveur\n",
    "    x_adversaire, y_adversaire : Coordonnées de l’adversaire\n",
    "    \n",
    "    Retourne la distance de l’adversaire à la ligne de passe.\n",
    "    \"\"\"\n",
    "    # Cas particulier : Passe verticale (éviter division par zéro)\n",
    "    if x_passeur == x_receveur:\n",
    "        return abs(x_adversaire - x_passeur)\n",
    "    \n",
    "    # Calcul de la pente et de l'ordonnée à l'origine de la ligne de passe\n",
    "    m = (y_receveur - y_passeur) / (x_receveur - x_passeur)\n",
    "    b = y_passeur - m * x_passeur\n",
    "    \n",
    "    # Coordonnées du point projeté perpendiculairement sur la ligne\n",
    "    x_proj = (x_adversaire + m * (y_adversaire - b)) / (1 + m**2)\n",
    "    y_proj = m * x_proj + b\n",
    "    \n",
    "    # Distance entre l’adversaire et le point projeté\n",
    "    distance = np.sqrt((x_adversaire - x_proj)**2 + (y_adversaire - y_proj)**2)\n",
    "    \n",
    "    return distance\n",
    "\n",
    "# Exemple d'utilisation avec un DataFrame\n",
    "df = pd.DataFrame({\n",
    "    \"x_passeur\": [30], \"y_passeur\": [40],\n",
    "    \"x_receveur\": [70], \"y_receveur\": [50],\n",
    "    \"x_adversaire\": [50], \"y_adversaire\": [55]\n",
    "})\n",
    "\n",
    "df[\"distance_adversaire_ligne_passe\"] = df.apply(lambda row: \n",
    "    distance_to_pass_line(row[\"x_passeur\"], row[\"y_passeur\"], row[\"x_receveur\"], row[\"y_receveur\"], \n",
    "                          row[\"x_adversaire\"], row[\"y_adversaire\"]), axis=1)\n",
    "\n",
    "print(df[[\"x_adversaire\", \"y_adversaire\", \"distance_adversaire_ligne_passe\"]])"
   ]
  }
 ],
 "metadata": {
  "environment": {
   "kernel": "conda-env-mmm-smartpack-py",
   "name": "workbench-notebooks.m119",
   "type": "gcloud",
   "uri": "us-docker.pkg.dev/deeplearning-platform-release/gcr.io/workbench-notebooks:m119"
  },
  "kernelspec": {
   "display_name": "Python 3 (ipykernel) (Local)",
   "language": "python",
   "name": "conda-env-mmm-smartpack-py"
  },
  "language_info": {
   "codemirror_mode": {
    "name": "ipython",
    "version": 3
   },
   "file_extension": ".py",
   "mimetype": "text/x-python",
   "name": "python",
   "nbconvert_exporter": "python",
   "pygments_lexer": "ipython3",
   "version": "3.10.15"
  }
 },
 "nbformat": 4,
 "nbformat_minor": 5
}
